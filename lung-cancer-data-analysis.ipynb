{
 "cells": [
  {
   "cell_type": "code",
   "execution_count": 1,
   "id": "d2542bb0",
   "metadata": {
    "_cell_guid": "b1076dfc-b9ad-4769-8c92-a6c4dae69d19",
    "_uuid": "8f2839f25d086af736a60e9eeb907d3b93b6e0e5",
    "execution": {
     "iopub.execute_input": "2025-07-19T12:22:27.242071Z",
     "iopub.status.busy": "2025-07-19T12:22:27.241653Z",
     "iopub.status.idle": "2025-07-19T12:22:29.451993Z",
     "shell.execute_reply": "2025-07-19T12:22:29.450704Z"
    },
    "papermill": {
     "duration": 2.219508,
     "end_time": "2025-07-19T12:22:29.453767",
     "exception": false,
     "start_time": "2025-07-19T12:22:27.234259",
     "status": "completed"
    },
    "tags": []
   },
   "outputs": [
    {
     "name": "stdout",
     "output_type": "stream",
     "text": [
      "/kaggle/input/lung-cancer-dataset/Lung Cancer.csv\n"
     ]
    }
   ],
   "source": [
    "# This Python 3 environment comes with many helpful analytics libraries installed\n",
    "# It is defined by the kaggle/python Docker image: https://github.com/kaggle/docker-python\n",
    "# For example, here's several helpful packages to load\n",
    "\n",
    "import numpy as np # linear algebra\n",
    "import pandas as pd # data processing, CSV file I/O (e.g. pd.read_csv)\n",
    "\n",
    "# Input data files are available in the read-only \"../input/\" directory\n",
    "# For example, running this (by clicking run or pressing Shift+Enter) will list all files under the input directory\n",
    "\n",
    "import os\n",
    "for dirname, _, filenames in os.walk('/kaggle/input'):\n",
    "    for filename in filenames:\n",
    "        print(os.path.join(dirname, filename))\n",
    "\n",
    "# You can write up to 20GB to the current directory (/kaggle/working/) that gets preserved as output when you create a version using \"Save & Run All\" \n",
    "# You can also write temporary files to /kaggle/temp/, but they won't be saved outside of the current session"
   ]
  },
  {
   "cell_type": "markdown",
   "id": "d348c38b",
   "metadata": {
    "papermill": {
     "duration": 0.004203,
     "end_time": "2025-07-19T12:22:29.462809",
     "exception": false,
     "start_time": "2025-07-19T12:22:29.458606",
     "status": "completed"
    },
    "tags": []
   },
   "source": [
    "## Getting to know the dataset"
   ]
  },
  {
   "cell_type": "code",
   "execution_count": 2,
   "id": "066e6c2b",
   "metadata": {
    "execution": {
     "iopub.execute_input": "2025-07-19T12:22:29.473138Z",
     "iopub.status.busy": "2025-07-19T12:22:29.472660Z",
     "iopub.status.idle": "2025-07-19T12:22:33.496817Z",
     "shell.execute_reply": "2025-07-19T12:22:33.495717Z"
    },
    "papermill": {
     "duration": 4.031612,
     "end_time": "2025-07-19T12:22:33.498789",
     "exception": false,
     "start_time": "2025-07-19T12:22:29.467177",
     "status": "completed"
    },
    "tags": []
   },
   "outputs": [],
   "source": [
    "import seaborn as sns\n",
    "import matplotlib.pyplot as plt\n",
    "from sklearn.model_selection import train_test_split\n",
    "from sklearn.linear_model import LogisticRegression\n",
    "from sklearn.tree import DecisionTreeClassifier, plot_tree\n",
    "from sklearn.metrics import classification_report, confusion_matrix\n",
    "from sklearn.preprocessing import LabelEncoder\n",
    "import plotly.express as px "
   ]
  },
  {
   "cell_type": "code",
   "execution_count": 3,
   "id": "0576c759",
   "metadata": {
    "execution": {
     "iopub.execute_input": "2025-07-19T12:22:33.509954Z",
     "iopub.status.busy": "2025-07-19T12:22:33.509326Z",
     "iopub.status.idle": "2025-07-19T12:22:37.226950Z",
     "shell.execute_reply": "2025-07-19T12:22:37.225711Z"
    },
    "papermill": {
     "duration": 3.724919,
     "end_time": "2025-07-19T12:22:37.228760",
     "exception": false,
     "start_time": "2025-07-19T12:22:33.503841",
     "status": "completed"
    },
    "tags": []
   },
   "outputs": [
    {
     "data": {
      "text/html": [
       "<div>\n",
       "<style scoped>\n",
       "    .dataframe tbody tr th:only-of-type {\n",
       "        vertical-align: middle;\n",
       "    }\n",
       "\n",
       "    .dataframe tbody tr th {\n",
       "        vertical-align: top;\n",
       "    }\n",
       "\n",
       "    .dataframe thead th {\n",
       "        text-align: right;\n",
       "    }\n",
       "</style>\n",
       "<table border=\"1\" class=\"dataframe\">\n",
       "  <thead>\n",
       "    <tr style=\"text-align: right;\">\n",
       "      <th></th>\n",
       "      <th>id</th>\n",
       "      <th>age</th>\n",
       "      <th>gender</th>\n",
       "      <th>country</th>\n",
       "      <th>diagnosis_date</th>\n",
       "      <th>cancer_stage</th>\n",
       "      <th>family_history</th>\n",
       "      <th>smoking_status</th>\n",
       "      <th>bmi</th>\n",
       "      <th>cholesterol_level</th>\n",
       "      <th>hypertension</th>\n",
       "      <th>asthma</th>\n",
       "      <th>cirrhosis</th>\n",
       "      <th>other_cancer</th>\n",
       "      <th>treatment_type</th>\n",
       "      <th>end_treatment_date</th>\n",
       "      <th>survived</th>\n",
       "    </tr>\n",
       "  </thead>\n",
       "  <tbody>\n",
       "    <tr>\n",
       "      <th>0</th>\n",
       "      <td>1</td>\n",
       "      <td>64.0</td>\n",
       "      <td>Male</td>\n",
       "      <td>Sweden</td>\n",
       "      <td>2016-04-05</td>\n",
       "      <td>Stage I</td>\n",
       "      <td>Yes</td>\n",
       "      <td>Passive Smoker</td>\n",
       "      <td>29.4</td>\n",
       "      <td>199</td>\n",
       "      <td>0</td>\n",
       "      <td>0</td>\n",
       "      <td>1</td>\n",
       "      <td>0</td>\n",
       "      <td>Chemotherapy</td>\n",
       "      <td>2017-09-10</td>\n",
       "      <td>0</td>\n",
       "    </tr>\n",
       "    <tr>\n",
       "      <th>1</th>\n",
       "      <td>2</td>\n",
       "      <td>50.0</td>\n",
       "      <td>Female</td>\n",
       "      <td>Netherlands</td>\n",
       "      <td>2023-04-20</td>\n",
       "      <td>Stage III</td>\n",
       "      <td>Yes</td>\n",
       "      <td>Passive Smoker</td>\n",
       "      <td>41.2</td>\n",
       "      <td>280</td>\n",
       "      <td>1</td>\n",
       "      <td>1</td>\n",
       "      <td>0</td>\n",
       "      <td>0</td>\n",
       "      <td>Surgery</td>\n",
       "      <td>2024-06-17</td>\n",
       "      <td>1</td>\n",
       "    </tr>\n",
       "    <tr>\n",
       "      <th>2</th>\n",
       "      <td>3</td>\n",
       "      <td>65.0</td>\n",
       "      <td>Female</td>\n",
       "      <td>Hungary</td>\n",
       "      <td>2023-04-05</td>\n",
       "      <td>Stage III</td>\n",
       "      <td>Yes</td>\n",
       "      <td>Former Smoker</td>\n",
       "      <td>44.0</td>\n",
       "      <td>268</td>\n",
       "      <td>1</td>\n",
       "      <td>1</td>\n",
       "      <td>0</td>\n",
       "      <td>0</td>\n",
       "      <td>Combined</td>\n",
       "      <td>2024-04-09</td>\n",
       "      <td>0</td>\n",
       "    </tr>\n",
       "    <tr>\n",
       "      <th>3</th>\n",
       "      <td>4</td>\n",
       "      <td>51.0</td>\n",
       "      <td>Female</td>\n",
       "      <td>Belgium</td>\n",
       "      <td>2016-02-05</td>\n",
       "      <td>Stage I</td>\n",
       "      <td>No</td>\n",
       "      <td>Passive Smoker</td>\n",
       "      <td>43.0</td>\n",
       "      <td>241</td>\n",
       "      <td>1</td>\n",
       "      <td>1</td>\n",
       "      <td>0</td>\n",
       "      <td>0</td>\n",
       "      <td>Chemotherapy</td>\n",
       "      <td>2017-04-23</td>\n",
       "      <td>0</td>\n",
       "    </tr>\n",
       "    <tr>\n",
       "      <th>4</th>\n",
       "      <td>5</td>\n",
       "      <td>37.0</td>\n",
       "      <td>Male</td>\n",
       "      <td>Luxembourg</td>\n",
       "      <td>2023-11-29</td>\n",
       "      <td>Stage I</td>\n",
       "      <td>No</td>\n",
       "      <td>Passive Smoker</td>\n",
       "      <td>19.7</td>\n",
       "      <td>178</td>\n",
       "      <td>0</td>\n",
       "      <td>0</td>\n",
       "      <td>0</td>\n",
       "      <td>0</td>\n",
       "      <td>Combined</td>\n",
       "      <td>2025-01-08</td>\n",
       "      <td>0</td>\n",
       "    </tr>\n",
       "  </tbody>\n",
       "</table>\n",
       "</div>"
      ],
      "text/plain": [
       "   id   age  gender      country diagnosis_date cancer_stage family_history  \\\n",
       "0   1  64.0    Male       Sweden     2016-04-05      Stage I            Yes   \n",
       "1   2  50.0  Female  Netherlands     2023-04-20    Stage III            Yes   \n",
       "2   3  65.0  Female      Hungary     2023-04-05    Stage III            Yes   \n",
       "3   4  51.0  Female      Belgium     2016-02-05      Stage I             No   \n",
       "4   5  37.0    Male   Luxembourg     2023-11-29      Stage I             No   \n",
       "\n",
       "   smoking_status   bmi  cholesterol_level  hypertension  asthma  cirrhosis  \\\n",
       "0  Passive Smoker  29.4                199             0       0          1   \n",
       "1  Passive Smoker  41.2                280             1       1          0   \n",
       "2   Former Smoker  44.0                268             1       1          0   \n",
       "3  Passive Smoker  43.0                241             1       1          0   \n",
       "4  Passive Smoker  19.7                178             0       0          0   \n",
       "\n",
       "   other_cancer treatment_type end_treatment_date  survived  \n",
       "0             0   Chemotherapy         2017-09-10         0  \n",
       "1             0        Surgery         2024-06-17         1  \n",
       "2             0       Combined         2024-04-09         0  \n",
       "3             0   Chemotherapy         2017-04-23         0  \n",
       "4             0       Combined         2025-01-08         0  "
      ]
     },
     "execution_count": 3,
     "metadata": {},
     "output_type": "execute_result"
    }
   ],
   "source": [
    "df = pd.read_csv(\"/kaggle/input/lung-cancer-dataset/Lung Cancer.csv\")\n",
    "df.head()"
   ]
  },
  {
   "cell_type": "code",
   "execution_count": 4,
   "id": "9bb0d067",
   "metadata": {
    "execution": {
     "iopub.execute_input": "2025-07-19T12:22:37.239842Z",
     "iopub.status.busy": "2025-07-19T12:22:37.239479Z",
     "iopub.status.idle": "2025-07-19T12:22:37.633088Z",
     "shell.execute_reply": "2025-07-19T12:22:37.631859Z"
    },
    "papermill": {
     "duration": 0.401151,
     "end_time": "2025-07-19T12:22:37.634830",
     "exception": false,
     "start_time": "2025-07-19T12:22:37.233679",
     "status": "completed"
    },
    "tags": []
   },
   "outputs": [
    {
     "name": "stdout",
     "output_type": "stream",
     "text": [
      "<class 'pandas.core.frame.DataFrame'>\n",
      "RangeIndex: 890000 entries, 0 to 889999\n",
      "Data columns (total 17 columns):\n",
      " #   Column              Non-Null Count   Dtype  \n",
      "---  ------              --------------   -----  \n",
      " 0   id                  890000 non-null  int64  \n",
      " 1   age                 890000 non-null  float64\n",
      " 2   gender              890000 non-null  object \n",
      " 3   country             890000 non-null  object \n",
      " 4   diagnosis_date      890000 non-null  object \n",
      " 5   cancer_stage        890000 non-null  object \n",
      " 6   family_history      890000 non-null  object \n",
      " 7   smoking_status      890000 non-null  object \n",
      " 8   bmi                 890000 non-null  float64\n",
      " 9   cholesterol_level   890000 non-null  int64  \n",
      " 10  hypertension        890000 non-null  int64  \n",
      " 11  asthma              890000 non-null  int64  \n",
      " 12  cirrhosis           890000 non-null  int64  \n",
      " 13  other_cancer        890000 non-null  int64  \n",
      " 14  treatment_type      890000 non-null  object \n",
      " 15  end_treatment_date  890000 non-null  object \n",
      " 16  survived            890000 non-null  int64  \n",
      "dtypes: float64(2), int64(7), object(8)\n",
      "memory usage: 115.4+ MB\n"
     ]
    }
   ],
   "source": [
    "df.info()"
   ]
  },
  {
   "cell_type": "code",
   "execution_count": 5,
   "id": "793d591a",
   "metadata": {
    "execution": {
     "iopub.execute_input": "2025-07-19T12:22:37.645816Z",
     "iopub.status.busy": "2025-07-19T12:22:37.645464Z",
     "iopub.status.idle": "2025-07-19T12:22:38.015421Z",
     "shell.execute_reply": "2025-07-19T12:22:38.014518Z"
    },
    "papermill": {
     "duration": 0.377169,
     "end_time": "2025-07-19T12:22:38.017068",
     "exception": false,
     "start_time": "2025-07-19T12:22:37.639899",
     "status": "completed"
    },
    "tags": []
   },
   "outputs": [
    {
     "data": {
      "text/plain": [
       "id                    0\n",
       "age                   0\n",
       "gender                0\n",
       "country               0\n",
       "diagnosis_date        0\n",
       "cancer_stage          0\n",
       "family_history        0\n",
       "smoking_status        0\n",
       "bmi                   0\n",
       "cholesterol_level     0\n",
       "hypertension          0\n",
       "asthma                0\n",
       "cirrhosis             0\n",
       "other_cancer          0\n",
       "treatment_type        0\n",
       "end_treatment_date    0\n",
       "survived              0\n",
       "dtype: int64"
      ]
     },
     "execution_count": 5,
     "metadata": {},
     "output_type": "execute_result"
    }
   ],
   "source": [
    "df.isnull().sum()"
   ]
  },
  {
   "cell_type": "markdown",
   "id": "71371386",
   "metadata": {
    "papermill": {
     "duration": 0.004473,
     "end_time": "2025-07-19T12:22:38.027558",
     "exception": false,
     "start_time": "2025-07-19T12:22:38.023085",
     "status": "completed"
    },
    "tags": []
   },
   "source": [
    "## Which factors are most common in patients who didn't survive?"
   ]
  },
  {
   "cell_type": "code",
   "execution_count": 6,
   "id": "14d84880",
   "metadata": {
    "execution": {
     "iopub.execute_input": "2025-07-19T12:22:38.039279Z",
     "iopub.status.busy": "2025-07-19T12:22:38.038956Z",
     "iopub.status.idle": "2025-07-19T12:22:38.044082Z",
     "shell.execute_reply": "2025-07-19T12:22:38.043056Z"
    },
    "papermill": {
     "duration": 0.01336,
     "end_time": "2025-07-19T12:22:38.045680",
     "exception": false,
     "start_time": "2025-07-19T12:22:38.032320",
     "status": "completed"
    },
    "tags": []
   },
   "outputs": [],
   "source": [
    "num_col = ['id','age','bmi','cholesterol_level','hypertension','asthma','cirrhosis','other_cancer']\n",
    "cat_col = ['gender','country','cancer_stage','family_history','smoking_status','treatment_type']"
   ]
  },
  {
   "cell_type": "code",
   "execution_count": 7,
   "id": "e41650f4",
   "metadata": {
    "execution": {
     "iopub.execute_input": "2025-07-19T12:22:38.057119Z",
     "iopub.status.busy": "2025-07-19T12:22:38.056773Z",
     "iopub.status.idle": "2025-07-19T12:22:39.108377Z",
     "shell.execute_reply": "2025-07-19T12:22:39.106985Z"
    },
    "papermill": {
     "duration": 1.059592,
     "end_time": "2025-07-19T12:22:39.110200",
     "exception": false,
     "start_time": "2025-07-19T12:22:38.050608",
     "status": "completed"
    },
    "tags": []
   },
   "outputs": [],
   "source": [
    "le = LabelEncoder()\n",
    "for cols in cat_col:\n",
    "    df[cols] = le.fit_transform(df[cols])\n",
    "    "
   ]
  },
  {
   "cell_type": "code",
   "execution_count": 8,
   "id": "f7761736",
   "metadata": {
    "execution": {
     "iopub.execute_input": "2025-07-19T12:22:39.122198Z",
     "iopub.status.busy": "2025-07-19T12:22:39.121867Z",
     "iopub.status.idle": "2025-07-19T12:22:39.259154Z",
     "shell.execute_reply": "2025-07-19T12:22:39.258036Z"
    },
    "papermill": {
     "duration": 0.145484,
     "end_time": "2025-07-19T12:22:39.260942",
     "exception": false,
     "start_time": "2025-07-19T12:22:39.115458",
     "status": "completed"
    },
    "tags": []
   },
   "outputs": [
    {
     "name": "stdout",
     "output_type": "stream",
     "text": [
      "<class 'pandas.core.frame.DataFrame'>\n",
      "RangeIndex: 890000 entries, 0 to 889999\n",
      "Data columns (total 17 columns):\n",
      " #   Column              Non-Null Count   Dtype  \n",
      "---  ------              --------------   -----  \n",
      " 0   id                  890000 non-null  int64  \n",
      " 1   age                 890000 non-null  float64\n",
      " 2   gender              890000 non-null  int64  \n",
      " 3   country             890000 non-null  int64  \n",
      " 4   diagnosis_date      890000 non-null  object \n",
      " 5   cancer_stage        890000 non-null  int64  \n",
      " 6   family_history      890000 non-null  int64  \n",
      " 7   smoking_status      890000 non-null  int64  \n",
      " 8   bmi                 890000 non-null  float64\n",
      " 9   cholesterol_level   890000 non-null  int64  \n",
      " 10  hypertension        890000 non-null  int64  \n",
      " 11  asthma              890000 non-null  int64  \n",
      " 12  cirrhosis           890000 non-null  int64  \n",
      " 13  other_cancer        890000 non-null  int64  \n",
      " 14  treatment_type      890000 non-null  int64  \n",
      " 15  end_treatment_date  890000 non-null  object \n",
      " 16  survived            890000 non-null  int64  \n",
      "dtypes: float64(2), int64(13), object(2)\n",
      "memory usage: 115.4+ MB\n"
     ]
    }
   ],
   "source": [
    "df.info()"
   ]
  },
  {
   "cell_type": "code",
   "execution_count": 9,
   "id": "e9f3a15a",
   "metadata": {
    "execution": {
     "iopub.execute_input": "2025-07-19T12:22:39.272489Z",
     "iopub.status.busy": "2025-07-19T12:22:39.272123Z",
     "iopub.status.idle": "2025-07-19T12:22:40.023540Z",
     "shell.execute_reply": "2025-07-19T12:22:40.022550Z"
    },
    "papermill": {
     "duration": 0.759132,
     "end_time": "2025-07-19T12:22:40.025132",
     "exception": false,
     "start_time": "2025-07-19T12:22:39.266000",
     "status": "completed"
    },
    "tags": []
   },
   "outputs": [
    {
     "data": {
      "text/html": [
       "<div>\n",
       "<style scoped>\n",
       "    .dataframe tbody tr th:only-of-type {\n",
       "        vertical-align: middle;\n",
       "    }\n",
       "\n",
       "    .dataframe tbody tr th {\n",
       "        vertical-align: top;\n",
       "    }\n",
       "\n",
       "    .dataframe thead th {\n",
       "        text-align: right;\n",
       "    }\n",
       "</style>\n",
       "<table border=\"1\" class=\"dataframe\">\n",
       "  <thead>\n",
       "    <tr style=\"text-align: right;\">\n",
       "      <th></th>\n",
       "      <th>id</th>\n",
       "      <th>age</th>\n",
       "      <th>gender</th>\n",
       "      <th>country</th>\n",
       "      <th>cancer_stage</th>\n",
       "      <th>family_history</th>\n",
       "      <th>smoking_status</th>\n",
       "      <th>bmi</th>\n",
       "      <th>cholesterol_level</th>\n",
       "      <th>hypertension</th>\n",
       "      <th>asthma</th>\n",
       "      <th>cirrhosis</th>\n",
       "      <th>other_cancer</th>\n",
       "      <th>treatment_type</th>\n",
       "      <th>survived</th>\n",
       "    </tr>\n",
       "  </thead>\n",
       "  <tbody>\n",
       "    <tr>\n",
       "      <th>id</th>\n",
       "      <td>1.000000</td>\n",
       "      <td>0.000142</td>\n",
       "      <td>0.000079</td>\n",
       "      <td>0.000671</td>\n",
       "      <td>-0.001202</td>\n",
       "      <td>-0.000245</td>\n",
       "      <td>0.000236</td>\n",
       "      <td>-0.001144</td>\n",
       "      <td>-0.001507</td>\n",
       "      <td>-0.002296</td>\n",
       "      <td>0.000096</td>\n",
       "      <td>0.001167</td>\n",
       "      <td>-0.000872</td>\n",
       "      <td>0.000369</td>\n",
       "      <td>0.000517</td>\n",
       "    </tr>\n",
       "    <tr>\n",
       "      <th>age</th>\n",
       "      <td>0.000142</td>\n",
       "      <td>1.000000</td>\n",
       "      <td>-0.000945</td>\n",
       "      <td>-0.000309</td>\n",
       "      <td>0.000875</td>\n",
       "      <td>-0.001111</td>\n",
       "      <td>-0.000045</td>\n",
       "      <td>0.000915</td>\n",
       "      <td>0.001799</td>\n",
       "      <td>-0.001082</td>\n",
       "      <td>-0.000519</td>\n",
       "      <td>-0.000067</td>\n",
       "      <td>-0.000785</td>\n",
       "      <td>-0.001028</td>\n",
       "      <td>0.001233</td>\n",
       "    </tr>\n",
       "    <tr>\n",
       "      <th>gender</th>\n",
       "      <td>0.000079</td>\n",
       "      <td>-0.000945</td>\n",
       "      <td>1.000000</td>\n",
       "      <td>0.001468</td>\n",
       "      <td>-0.000161</td>\n",
       "      <td>0.000762</td>\n",
       "      <td>-0.000595</td>\n",
       "      <td>0.000504</td>\n",
       "      <td>0.000224</td>\n",
       "      <td>-0.000254</td>\n",
       "      <td>0.001142</td>\n",
       "      <td>0.001092</td>\n",
       "      <td>-0.000545</td>\n",
       "      <td>0.000040</td>\n",
       "      <td>0.000762</td>\n",
       "    </tr>\n",
       "    <tr>\n",
       "      <th>country</th>\n",
       "      <td>0.000671</td>\n",
       "      <td>-0.000309</td>\n",
       "      <td>0.001468</td>\n",
       "      <td>1.000000</td>\n",
       "      <td>-0.000665</td>\n",
       "      <td>-0.000624</td>\n",
       "      <td>0.001484</td>\n",
       "      <td>-0.000766</td>\n",
       "      <td>-0.000483</td>\n",
       "      <td>0.001479</td>\n",
       "      <td>-0.000521</td>\n",
       "      <td>-0.000690</td>\n",
       "      <td>0.002653</td>\n",
       "      <td>0.001365</td>\n",
       "      <td>0.000066</td>\n",
       "    </tr>\n",
       "    <tr>\n",
       "      <th>cancer_stage</th>\n",
       "      <td>-0.001202</td>\n",
       "      <td>0.000875</td>\n",
       "      <td>-0.000161</td>\n",
       "      <td>-0.000665</td>\n",
       "      <td>1.000000</td>\n",
       "      <td>0.000345</td>\n",
       "      <td>0.001160</td>\n",
       "      <td>-0.000446</td>\n",
       "      <td>-0.000504</td>\n",
       "      <td>0.000818</td>\n",
       "      <td>-0.001350</td>\n",
       "      <td>-0.000034</td>\n",
       "      <td>0.000260</td>\n",
       "      <td>-0.002192</td>\n",
       "      <td>0.002519</td>\n",
       "    </tr>\n",
       "    <tr>\n",
       "      <th>family_history</th>\n",
       "      <td>-0.000245</td>\n",
       "      <td>-0.001111</td>\n",
       "      <td>0.000762</td>\n",
       "      <td>-0.000624</td>\n",
       "      <td>0.000345</td>\n",
       "      <td>1.000000</td>\n",
       "      <td>-0.001261</td>\n",
       "      <td>0.000411</td>\n",
       "      <td>0.000086</td>\n",
       "      <td>-0.001639</td>\n",
       "      <td>-0.000808</td>\n",
       "      <td>0.002495</td>\n",
       "      <td>-0.000024</td>\n",
       "      <td>0.000310</td>\n",
       "      <td>0.001322</td>\n",
       "    </tr>\n",
       "    <tr>\n",
       "      <th>smoking_status</th>\n",
       "      <td>0.000236</td>\n",
       "      <td>-0.000045</td>\n",
       "      <td>-0.000595</td>\n",
       "      <td>0.001484</td>\n",
       "      <td>0.001160</td>\n",
       "      <td>-0.001261</td>\n",
       "      <td>1.000000</td>\n",
       "      <td>0.000901</td>\n",
       "      <td>0.001169</td>\n",
       "      <td>0.000408</td>\n",
       "      <td>-0.000140</td>\n",
       "      <td>0.001454</td>\n",
       "      <td>-0.000579</td>\n",
       "      <td>-0.000910</td>\n",
       "      <td>0.000087</td>\n",
       "    </tr>\n",
       "    <tr>\n",
       "      <th>bmi</th>\n",
       "      <td>-0.001144</td>\n",
       "      <td>0.000915</td>\n",
       "      <td>0.000504</td>\n",
       "      <td>-0.000766</td>\n",
       "      <td>-0.000446</td>\n",
       "      <td>0.000411</td>\n",
       "      <td>0.000901</td>\n",
       "      <td>1.000000</td>\n",
       "      <td>0.746905</td>\n",
       "      <td>0.001923</td>\n",
       "      <td>0.001662</td>\n",
       "      <td>0.000608</td>\n",
       "      <td>0.000771</td>\n",
       "      <td>0.000783</td>\n",
       "      <td>0.000007</td>\n",
       "    </tr>\n",
       "    <tr>\n",
       "      <th>cholesterol_level</th>\n",
       "      <td>-0.001507</td>\n",
       "      <td>0.001799</td>\n",
       "      <td>0.000224</td>\n",
       "      <td>-0.000483</td>\n",
       "      <td>-0.000504</td>\n",
       "      <td>0.000086</td>\n",
       "      <td>0.001169</td>\n",
       "      <td>0.746905</td>\n",
       "      <td>1.000000</td>\n",
       "      <td>0.002049</td>\n",
       "      <td>0.001263</td>\n",
       "      <td>0.000467</td>\n",
       "      <td>-0.000185</td>\n",
       "      <td>0.000113</td>\n",
       "      <td>0.000157</td>\n",
       "    </tr>\n",
       "    <tr>\n",
       "      <th>hypertension</th>\n",
       "      <td>-0.002296</td>\n",
       "      <td>-0.001082</td>\n",
       "      <td>-0.000254</td>\n",
       "      <td>0.001479</td>\n",
       "      <td>0.000818</td>\n",
       "      <td>-0.001639</td>\n",
       "      <td>0.000408</td>\n",
       "      <td>0.001923</td>\n",
       "      <td>0.002049</td>\n",
       "      <td>1.000000</td>\n",
       "      <td>0.108201</td>\n",
       "      <td>0.097139</td>\n",
       "      <td>0.073651</td>\n",
       "      <td>0.001566</td>\n",
       "      <td>0.000059</td>\n",
       "    </tr>\n",
       "    <tr>\n",
       "      <th>asthma</th>\n",
       "      <td>0.000096</td>\n",
       "      <td>-0.000519</td>\n",
       "      <td>0.001142</td>\n",
       "      <td>-0.000521</td>\n",
       "      <td>-0.001350</td>\n",
       "      <td>-0.000808</td>\n",
       "      <td>-0.000140</td>\n",
       "      <td>0.001662</td>\n",
       "      <td>0.001263</td>\n",
       "      <td>0.108201</td>\n",
       "      <td>1.000000</td>\n",
       "      <td>0.053147</td>\n",
       "      <td>0.039283</td>\n",
       "      <td>0.000734</td>\n",
       "      <td>-0.001809</td>\n",
       "    </tr>\n",
       "    <tr>\n",
       "      <th>cirrhosis</th>\n",
       "      <td>0.001167</td>\n",
       "      <td>-0.000067</td>\n",
       "      <td>0.001092</td>\n",
       "      <td>-0.000690</td>\n",
       "      <td>-0.000034</td>\n",
       "      <td>0.002495</td>\n",
       "      <td>0.001454</td>\n",
       "      <td>0.000608</td>\n",
       "      <td>0.000467</td>\n",
       "      <td>0.097139</td>\n",
       "      <td>0.053147</td>\n",
       "      <td>1.000000</td>\n",
       "      <td>0.022671</td>\n",
       "      <td>0.001952</td>\n",
       "      <td>0.001956</td>\n",
       "    </tr>\n",
       "    <tr>\n",
       "      <th>other_cancer</th>\n",
       "      <td>-0.000872</td>\n",
       "      <td>-0.000785</td>\n",
       "      <td>-0.000545</td>\n",
       "      <td>0.002653</td>\n",
       "      <td>0.000260</td>\n",
       "      <td>-0.000024</td>\n",
       "      <td>-0.000579</td>\n",
       "      <td>0.000771</td>\n",
       "      <td>-0.000185</td>\n",
       "      <td>0.073651</td>\n",
       "      <td>0.039283</td>\n",
       "      <td>0.022671</td>\n",
       "      <td>1.000000</td>\n",
       "      <td>-0.001048</td>\n",
       "      <td>-0.001972</td>\n",
       "    </tr>\n",
       "    <tr>\n",
       "      <th>treatment_type</th>\n",
       "      <td>0.000369</td>\n",
       "      <td>-0.001028</td>\n",
       "      <td>0.000040</td>\n",
       "      <td>0.001365</td>\n",
       "      <td>-0.002192</td>\n",
       "      <td>0.000310</td>\n",
       "      <td>-0.000910</td>\n",
       "      <td>0.000783</td>\n",
       "      <td>0.000113</td>\n",
       "      <td>0.001566</td>\n",
       "      <td>0.000734</td>\n",
       "      <td>0.001952</td>\n",
       "      <td>-0.001048</td>\n",
       "      <td>1.000000</td>\n",
       "      <td>0.002354</td>\n",
       "    </tr>\n",
       "    <tr>\n",
       "      <th>survived</th>\n",
       "      <td>0.000517</td>\n",
       "      <td>0.001233</td>\n",
       "      <td>0.000762</td>\n",
       "      <td>0.000066</td>\n",
       "      <td>0.002519</td>\n",
       "      <td>0.001322</td>\n",
       "      <td>0.000087</td>\n",
       "      <td>0.000007</td>\n",
       "      <td>0.000157</td>\n",
       "      <td>0.000059</td>\n",
       "      <td>-0.001809</td>\n",
       "      <td>0.001956</td>\n",
       "      <td>-0.001972</td>\n",
       "      <td>0.002354</td>\n",
       "      <td>1.000000</td>\n",
       "    </tr>\n",
       "  </tbody>\n",
       "</table>\n",
       "</div>"
      ],
      "text/plain": [
       "                         id       age    gender   country  cancer_stage  \\\n",
       "id                 1.000000  0.000142  0.000079  0.000671     -0.001202   \n",
       "age                0.000142  1.000000 -0.000945 -0.000309      0.000875   \n",
       "gender             0.000079 -0.000945  1.000000  0.001468     -0.000161   \n",
       "country            0.000671 -0.000309  0.001468  1.000000     -0.000665   \n",
       "cancer_stage      -0.001202  0.000875 -0.000161 -0.000665      1.000000   \n",
       "family_history    -0.000245 -0.001111  0.000762 -0.000624      0.000345   \n",
       "smoking_status     0.000236 -0.000045 -0.000595  0.001484      0.001160   \n",
       "bmi               -0.001144  0.000915  0.000504 -0.000766     -0.000446   \n",
       "cholesterol_level -0.001507  0.001799  0.000224 -0.000483     -0.000504   \n",
       "hypertension      -0.002296 -0.001082 -0.000254  0.001479      0.000818   \n",
       "asthma             0.000096 -0.000519  0.001142 -0.000521     -0.001350   \n",
       "cirrhosis          0.001167 -0.000067  0.001092 -0.000690     -0.000034   \n",
       "other_cancer      -0.000872 -0.000785 -0.000545  0.002653      0.000260   \n",
       "treatment_type     0.000369 -0.001028  0.000040  0.001365     -0.002192   \n",
       "survived           0.000517  0.001233  0.000762  0.000066      0.002519   \n",
       "\n",
       "                   family_history  smoking_status       bmi  \\\n",
       "id                      -0.000245        0.000236 -0.001144   \n",
       "age                     -0.001111       -0.000045  0.000915   \n",
       "gender                   0.000762       -0.000595  0.000504   \n",
       "country                 -0.000624        0.001484 -0.000766   \n",
       "cancer_stage             0.000345        0.001160 -0.000446   \n",
       "family_history           1.000000       -0.001261  0.000411   \n",
       "smoking_status          -0.001261        1.000000  0.000901   \n",
       "bmi                      0.000411        0.000901  1.000000   \n",
       "cholesterol_level        0.000086        0.001169  0.746905   \n",
       "hypertension            -0.001639        0.000408  0.001923   \n",
       "asthma                  -0.000808       -0.000140  0.001662   \n",
       "cirrhosis                0.002495        0.001454  0.000608   \n",
       "other_cancer            -0.000024       -0.000579  0.000771   \n",
       "treatment_type           0.000310       -0.000910  0.000783   \n",
       "survived                 0.001322        0.000087  0.000007   \n",
       "\n",
       "                   cholesterol_level  hypertension    asthma  cirrhosis  \\\n",
       "id                         -0.001507     -0.002296  0.000096   0.001167   \n",
       "age                         0.001799     -0.001082 -0.000519  -0.000067   \n",
       "gender                      0.000224     -0.000254  0.001142   0.001092   \n",
       "country                    -0.000483      0.001479 -0.000521  -0.000690   \n",
       "cancer_stage               -0.000504      0.000818 -0.001350  -0.000034   \n",
       "family_history              0.000086     -0.001639 -0.000808   0.002495   \n",
       "smoking_status              0.001169      0.000408 -0.000140   0.001454   \n",
       "bmi                         0.746905      0.001923  0.001662   0.000608   \n",
       "cholesterol_level           1.000000      0.002049  0.001263   0.000467   \n",
       "hypertension                0.002049      1.000000  0.108201   0.097139   \n",
       "asthma                      0.001263      0.108201  1.000000   0.053147   \n",
       "cirrhosis                   0.000467      0.097139  0.053147   1.000000   \n",
       "other_cancer               -0.000185      0.073651  0.039283   0.022671   \n",
       "treatment_type              0.000113      0.001566  0.000734   0.001952   \n",
       "survived                    0.000157      0.000059 -0.001809   0.001956   \n",
       "\n",
       "                   other_cancer  treatment_type  survived  \n",
       "id                    -0.000872        0.000369  0.000517  \n",
       "age                   -0.000785       -0.001028  0.001233  \n",
       "gender                -0.000545        0.000040  0.000762  \n",
       "country                0.002653        0.001365  0.000066  \n",
       "cancer_stage           0.000260       -0.002192  0.002519  \n",
       "family_history        -0.000024        0.000310  0.001322  \n",
       "smoking_status        -0.000579       -0.000910  0.000087  \n",
       "bmi                    0.000771        0.000783  0.000007  \n",
       "cholesterol_level     -0.000185        0.000113  0.000157  \n",
       "hypertension           0.073651        0.001566  0.000059  \n",
       "asthma                 0.039283        0.000734 -0.001809  \n",
       "cirrhosis              0.022671        0.001952  0.001956  \n",
       "other_cancer           1.000000       -0.001048 -0.001972  \n",
       "treatment_type        -0.001048        1.000000  0.002354  \n",
       "survived              -0.001972        0.002354  1.000000  "
      ]
     },
     "execution_count": 9,
     "metadata": {},
     "output_type": "execute_result"
    }
   ],
   "source": [
    "df = df.drop(['diagnosis_date', 'end_treatment_date'], axis=1)\n",
    "df.corr()"
   ]
  },
  {
   "cell_type": "code",
   "execution_count": 10,
   "id": "1c0ec5e8",
   "metadata": {
    "execution": {
     "iopub.execute_input": "2025-07-19T12:22:40.037259Z",
     "iopub.status.busy": "2025-07-19T12:22:40.036922Z",
     "iopub.status.idle": "2025-07-19T12:22:41.534204Z",
     "shell.execute_reply": "2025-07-19T12:22:41.533233Z"
    },
    "papermill": {
     "duration": 1.507852,
     "end_time": "2025-07-19T12:22:41.538609",
     "exception": false,
     "start_time": "2025-07-19T12:22:40.030757",
     "status": "completed"
    },
    "tags": []
   },
   "outputs": [
    {
     "data": {
      "image/png": "[encoded data removed]",
      "text/plain": [
       "<Figure size 1500x600 with 2 Axes>"
      ]
     },
     "metadata": {},
     "output_type": "display_data"
    }
   ],
   "source": [
    "plt.figure(figsize=(15,6))  \n",
    "sns.heatmap(df.corr(), annot=True)  \n",
    "plt.show() "
   ]
  },
  {
   "cell_type": "code",
   "execution_count": 11,
   "id": "3e94ca96",
   "metadata": {
    "execution": {
     "iopub.execute_input": "2025-07-19T12:22:41.560219Z",
     "iopub.status.busy": "2025-07-19T12:22:41.559620Z",
     "iopub.status.idle": "2025-07-19T12:22:42.247956Z",
     "shell.execute_reply": "2025-07-19T12:22:42.246812Z"
    },
    "papermill": {
     "duration": 0.70153,
     "end_time": "2025-07-19T12:22:42.249519",
     "exception": false,
     "start_time": "2025-07-19T12:22:41.547989",
     "status": "completed"
    },
    "tags": []
   },
   "outputs": [
    {
     "name": "stdout",
     "output_type": "stream",
     "text": [
      "other_cancer        -0.001972\n",
      "asthma              -0.001809\n",
      "bmi                  0.000007\n",
      "hypertension         0.000059\n",
      "country              0.000066\n",
      "smoking_status       0.000087\n",
      "cholesterol_level    0.000157\n",
      "id                   0.000517\n",
      "gender               0.000762\n",
      "age                  0.001233\n",
      "family_history       0.001322\n",
      "cirrhosis            0.001956\n",
      "treatment_type       0.002354\n",
      "cancer_stage         0.002519\n",
      "survived             1.000000\n",
      "Name: survived, dtype: float64\n"
     ]
    }
   ],
   "source": [
    "corr_with_survived = df.corr()['survived'].sort_values()\n",
    "print(corr_with_survived)"
   ]
  },
  {
   "cell_type": "markdown",
   "id": "77c0aff1",
   "metadata": {
    "papermill": {
     "duration": 0.008321,
     "end_time": "2025-07-19T12:22:42.267208",
     "exception": false,
     "start_time": "2025-07-19T12:22:42.258887",
     "status": "completed"
    },
    "tags": []
   },
   "source": [
    "Based on correlation analysis alone, no single factor clearly stands out as more common in non-survivors. Slight trends suggest that comorbidities like other cancer and asthma may be slightly more present in non-survivors, but the effects are too small to draw strong conclusions."
   ]
  },
  {
   "cell_type": "markdown",
   "id": "4a0d8648",
   "metadata": {
    "papermill": {
     "duration": 0.008512,
     "end_time": "2025-07-19T12:22:42.284300",
     "exception": false,
     "start_time": "2025-07-19T12:22:42.275788",
     "status": "completed"
    },
    "tags": []
   },
   "source": [
    "## How does cancer stage relate to survival?"
   ]
  },
  {
   "cell_type": "code",
   "execution_count": 12,
   "id": "74bea6b0",
   "metadata": {
    "execution": {
     "iopub.execute_input": "2025-07-19T12:22:42.304461Z",
     "iopub.status.busy": "2025-07-19T12:22:42.304084Z",
     "iopub.status.idle": "2025-07-19T12:22:44.788209Z",
     "shell.execute_reply": "2025-07-19T12:22:44.787059Z"
    },
    "papermill": {
     "duration": 2.496615,
     "end_time": "2025-07-19T12:22:44.790121",
     "exception": false,
     "start_time": "2025-07-19T12:22:42.293506",
     "status": "completed"
    },
    "tags": []
   },
   "outputs": [
    {
     "data": {
      "text/html": [
       "<html>\n",
       "<head><meta charset=\"utf-8\" /></head>\n",
       "<body>\n",
       "    <div>            <script src=\"https://cdnjs.cloudflare.com/ajax/libs/mathjax/2.7.5/MathJax.js?config=TeX-AMS-MML_SVG\"></script><script type=\"text/javascript\">if (window.MathJax && window.MathJax.Hub && window.MathJax.Hub.Config) {window.MathJax.Hub.Config({SVG: {font: \"STIX-Web\"}});}</script>                <script type=\"text/javascript\">window.PlotlyConfig = {MathJaxConfig: 'local'};</script>\n",
       "        <script charset=\"utf-8\" src=\"https://cdn.plot.ly/plotly-2.35.2.min.js\"></script>                <div id=\"f83d383b-a697-4522-9f19-79803687e341\" class=\"plotly-graph-div\" style=\"height:400px; width:700px;\"></div>            <script type=\"text/javascript\">                                    window.PLOTLYENV=window.PLOTLYENV || {};                                    if (document.getElementById(\"f83d383b-a697-4522-9f19-79803687e341\")) {                    Plotly.newPlot(                        \"f83d383b-a697-4522-9f19-79803687e341\",                        [{\"alignmentgroup\":\"True\",\"hovertemplate\":\"cancer_stage_label=%{x}\\u003cbr\\u003esurvival_rate=%{text}\\u003cextra\\u003e\\u003c\\u002fextra\\u003e\",\"legendgroup\":\"\",\"marker\":{\"color\":\"#4CAF50\",\"pattern\":{\"shape\":\"\"},\"line\":{\"color\":\"black\",\"width\":1.5}},\"name\":\"\",\"offsetgroup\":\"\",\"orientation\":\"v\",\"showlegend\":false,\"text\":[21.81,22.09,22.05,22.14],\"textposition\":\"outside\",\"x\":[\"Stage I\",\"Stage II\",\"Stage III\",\"Stage IV\"],\"xaxis\":\"x\",\"y\":[21.81,22.09,22.05,22.14],\"yaxis\":\"y\",\"type\":\"bar\",\"texttemplate\":\"%{text}%\"}],                        {\"template\":{\"data\":{\"histogram2dcontour\":[{\"type\":\"histogram2dcontour\",\"colorbar\":{\"outlinewidth\":0,\"ticks\":\"\"},\"colorscale\":[[0.0,\"#0d0887\"],[0.1111111111111111,\"#46039f\"],[0.2222222222222222,\"#7201a8\"],[0.3333333333333333,\"#9c179e\"],[0.4444444444444444,\"#bd3786\"],[0.5555555555555556,\"#d8576b\"],[0.6666666666666666,\"#ed7953\"],[0.7777777777777778,\"#fb9f3a\"],[0.8888888888888888,\"#fdca26\"],[1.0,\"#f0f921\"]]}],\"choropleth\":[{\"type\":\"choropleth\",\"colorbar\":{\"outlinewidth\":0,\"ticks\":\"\"}}],\"histogram2d\":[{\"type\":\"histogram2d\",\"colorbar\":{\"outlinewidth\":0,\"ticks\":\"\"},\"colorscale\":[[0.0,\"#0d0887\"],[0.1111111111111111,\"#46039f\"],[0.2222222222222222,\"#7201a8\"],[0.3333333333333333,\"#9c179e\"],[0.4444444444444444,\"#bd3786\"],[0.5555555555555556,\"#d8576b\"],[0.6666666666666666,\"#ed7953\"],[0.7777777777777778,\"#fb9f3a\"],[0.8888888888888888,\"#fdca26\"],[1.0,\"#f0f921\"]]}],\"heatmap\":[{\"type\":\"heatmap\",\"colorbar\":{\"outlinewidth\":0,\"ticks\":\"\"},\"colorscale\":[[0.0,\"#0d0887\"],[0.1111111111111111,\"#46039f\"],[0.2222222222222222,\"#7201a8\"],[0.3333333333333333,\"#9c179e\"],[0.4444444444444444,\"#bd3786\"],[0.5555555555555556,\"#d8576b\"],[0.6666666666666666,\"#ed7953\"],[0.7777777777777778,\"#fb9f3a\"],[0.8888888888888888,\"#fdca26\"],[1.0,\"#f0f921\"]]}],\"heatmapgl\":[{\"type\":\"heatmapgl\",\"colorbar\":{\"outlinewidth\":0,\"ticks\":\"\"},\"colorscale\":[[0.0,\"#0d0887\"],[0.1111111111111111,\"#46039f\"],[0.2222222222222222,\"#7201a8\"],[0.3333333333333333,\"#9c179e\"],[0.4444444444444444,\"#bd3786\"],[0.5555555555555556,\"#d8576b\"],[0.6666666666666666,\"#ed7953\"],[0.7777777777777778,\"#fb9f3a\"],[0.8888888888888888,\"#fdca26\"],[1.0,\"#f0f921\"]]}],\"contourcarpet\":[{\"type\":\"contourcarpet\",\"colorbar\":{\"outlinewidth\":0,\"ticks\":\"\"}}],\"contour\":[{\"type\":\"contour\",\"colorbar\":{\"outlinewidth\":0,\"ticks\":\"\"},\"colorscale\":[[0.0,\"#0d0887\"],[0.1111111111111111,\"#46039f\"],[0.2222222222222222,\"#7201a8\"],[0.3333333333333333,\"#9c179e\"],[0.4444444444444444,\"#bd3786\"],[0.5555555555555556,\"#d8576b\"],[0.6666666666666666,\"#ed7953\"],[0.7777777777777778,\"#fb9f3a\"],[0.8888888888888888,\"#fdca26\"],[1.0,\"#f0f921\"]]}],\"surface\":[{\"type\":\"surface\",\"colorbar\":{\"outlinewidth\":0,\"ticks\":\"\"},\"colorscale\":[[0.0,\"#0d0887\"],[0.1111111111111111,\"#46039f\"],[0.2222222222222222,\"#7201a8\"],[0.3333333333333333,\"#9c179e\"],[0.4444444444444444,\"#bd3786\"],[0.5555555555555556,\"#d8576b\"],[0.6666666666666666,\"#ed7953\"],[0.7777777777777778,\"#fb9f3a\"],[0.8888888888888888,\"#fdca26\"],[1.0,\"#f0f921\"]]}],\"mesh3d\":[{\"type\":\"mesh3d\",\"colorbar\":{\"outlinewidth\":0,\"ticks\":\"\"}}],\"scatter\":[{\"fillpattern\":{\"fillmode\":\"overlay\",\"size\":10,\"solidity\":0.2},\"type\":\"scatter\"}],\"parcoords\":[{\"type\":\"parcoords\",\"line\":{\"colorbar\":{\"outlinewidth\":0,\"ticks\":\"\"}}}],\"scatterpolargl\":[{\"type\":\"scatterpolargl\",\"marker\":{\"colorbar\":{\"outlinewidth\":0,\"ticks\":\"\"}}}],\"bar\":[{\"error_x\":{\"color\":\"#2a3f5f\"},\"error_y\":{\"color\":\"#2a3f5f\"},\"marker\":{\"line\":{\"color\":\"#E5ECF6\",\"width\":0.5},\"pattern\":{\"fillmode\":\"overlay\",\"size\":10,\"solidity\":0.2}},\"type\":\"bar\"}],\"scattergeo\":[{\"type\":\"scattergeo\",\"marker\":{\"colorbar\":{\"outlinewidth\":0,\"ticks\":\"\"}}}],\"scatterpolar\":[{\"type\":\"scatterpolar\",\"marker\":{\"colorbar\":{\"outlinewidth\":0,\"ticks\":\"\"}}}],\"histogram\":[{\"marker\":{\"pattern\":{\"fillmode\":\"overlay\",\"size\":10,\"solidity\":0.2}},\"type\":\"histogram\"}],\"scattergl\":[{\"type\":\"scattergl\",\"marker\":{\"colorbar\":{\"outlinewidth\":0,\"ticks\":\"\"}}}],\"scatter3d\":[{\"type\":\"scatter3d\",\"line\":{\"colorbar\":{\"outlinewidth\":0,\"ticks\":\"\"}},\"marker\":{\"colorbar\":{\"outlinewidth\":0,\"ticks\":\"\"}}}],\"scattermapbox\":[{\"type\":\"scattermapbox\",\"marker\":{\"colorbar\":{\"outlinewidth\":0,\"ticks\":\"\"}}}],\"scatterternary\":[{\"type\":\"scatterternary\",\"marker\":{\"colorbar\":{\"outlinewidth\":0,\"ticks\":\"\"}}}],\"scattercarpet\":[{\"type\":\"scattercarpet\",\"marker\":{\"colorbar\":{\"outlinewidth\":0,\"ticks\":\"\"}}}],\"carpet\":[{\"aaxis\":{\"endlinecolor\":\"#2a3f5f\",\"gridcolor\":\"white\",\"linecolor\":\"white\",\"minorgridcolor\":\"white\",\"startlinecolor\":\"#2a3f5f\"},\"baxis\":{\"endlinecolor\":\"#2a3f5f\",\"gridcolor\":\"white\",\"linecolor\":\"white\",\"minorgridcolor\":\"white\",\"startlinecolor\":\"#2a3f5f\"},\"type\":\"carpet\"}],\"table\":[{\"cells\":{\"fill\":{\"color\":\"#EBF0F8\"},\"line\":{\"color\":\"white\"}},\"header\":{\"fill\":{\"color\":\"#C8D4E3\"},\"line\":{\"color\":\"white\"}},\"type\":\"table\"}],\"barpolar\":[{\"marker\":{\"line\":{\"color\":\"#E5ECF6\",\"width\":0.5},\"pattern\":{\"fillmode\":\"overlay\",\"size\":10,\"solidity\":0.2}},\"type\":\"barpolar\"}],\"pie\":[{\"automargin\":true,\"type\":\"pie\"}]},\"layout\":{\"autotypenumbers\":\"strict\",\"colorway\":[\"#636efa\",\"#EF553B\",\"#00cc96\",\"#ab63fa\",\"#FFA15A\",\"#19d3f3\",\"#FF6692\",\"#B6E880\",\"#FF97FF\",\"#FECB52\"],\"font\":{\"color\":\"#2a3f5f\"},\"hovermode\":\"closest\",\"hoverlabel\":{\"align\":\"left\"},\"paper_bgcolor\":\"white\",\"plot_bgcolor\":\"#E5ECF6\",\"polar\":{\"bgcolor\":\"#E5ECF6\",\"angularaxis\":{\"gridcolor\":\"white\",\"linecolor\":\"white\",\"ticks\":\"\"},\"radialaxis\":{\"gridcolor\":\"white\",\"linecolor\":\"white\",\"ticks\":\"\"}},\"ternary\":{\"bgcolor\":\"#E5ECF6\",\"aaxis\":{\"gridcolor\":\"white\",\"linecolor\":\"white\",\"ticks\":\"\"},\"baxis\":{\"gridcolor\":\"white\",\"linecolor\":\"white\",\"ticks\":\"\"},\"caxis\":{\"gridcolor\":\"white\",\"linecolor\":\"white\",\"ticks\":\"\"}},\"coloraxis\":{\"colorbar\":{\"outlinewidth\":0,\"ticks\":\"\"}},\"colorscale\":{\"sequential\":[[0.0,\"#0d0887\"],[0.1111111111111111,\"#46039f\"],[0.2222222222222222,\"#7201a8\"],[0.3333333333333333,\"#9c179e\"],[0.4444444444444444,\"#bd3786\"],[0.5555555555555556,\"#d8576b\"],[0.6666666666666666,\"#ed7953\"],[0.7777777777777778,\"#fb9f3a\"],[0.8888888888888888,\"#fdca26\"],[1.0,\"#f0f921\"]],\"sequentialminus\":[[0.0,\"#0d0887\"],[0.1111111111111111,\"#46039f\"],[0.2222222222222222,\"#7201a8\"],[0.3333333333333333,\"#9c179e\"],[0.4444444444444444,\"#bd3786\"],[0.5555555555555556,\"#d8576b\"],[0.6666666666666666,\"#ed7953\"],[0.7777777777777778,\"#fb9f3a\"],[0.8888888888888888,\"#fdca26\"],[1.0,\"#f0f921\"]],\"diverging\":[[0,\"#8e0152\"],[0.1,\"#c51b7d\"],[0.2,\"#de77ae\"],[0.3,\"#f1b6da\"],[0.4,\"#fde0ef\"],[0.5,\"#f7f7f7\"],[0.6,\"#e6f5d0\"],[0.7,\"#b8e186\"],[0.8,\"#7fbc41\"],[0.9,\"#4d9221\"],[1,\"#276419\"]]},\"xaxis\":{\"gridcolor\":\"white\",\"linecolor\":\"white\",\"ticks\":\"\",\"title\":{\"standoff\":15},\"zerolinecolor\":\"white\",\"automargin\":true,\"zerolinewidth\":2},\"yaxis\":{\"gridcolor\":\"white\",\"linecolor\":\"white\",\"ticks\":\"\",\"title\":{\"standoff\":15},\"zerolinecolor\":\"white\",\"automargin\":true,\"zerolinewidth\":2},\"scene\":{\"xaxis\":{\"backgroundcolor\":\"#E5ECF6\",\"gridcolor\":\"white\",\"linecolor\":\"white\",\"showbackground\":true,\"ticks\":\"\",\"zerolinecolor\":\"white\",\"gridwidth\":2},\"yaxis\":{\"backgroundcolor\":\"#E5ECF6\",\"gridcolor\":\"white\",\"linecolor\":\"white\",\"showbackground\":true,\"ticks\":\"\",\"zerolinecolor\":\"white\",\"gridwidth\":2},\"zaxis\":{\"backgroundcolor\":\"#E5ECF6\",\"gridcolor\":\"white\",\"linecolor\":\"white\",\"showbackground\":true,\"ticks\":\"\",\"zerolinecolor\":\"white\",\"gridwidth\":2}},\"shapedefaults\":{\"line\":{\"color\":\"#2a3f5f\"}},\"annotationdefaults\":{\"arrowcolor\":\"#2a3f5f\",\"arrowhead\":0,\"arrowwidth\":1},\"geo\":{\"bgcolor\":\"white\",\"landcolor\":\"#E5ECF6\",\"subunitcolor\":\"white\",\"showland\":true,\"showlakes\":true,\"lakecolor\":\"white\"},\"title\":{\"x\":0.05},\"mapbox\":{\"style\":\"light\"}}},\"xaxis\":{\"anchor\":\"y\",\"domain\":[0.0,1.0],\"title\":{\"text\":\"Cancer Stage\"}},\"yaxis\":{\"anchor\":\"x\",\"domain\":[0.0,1.0],\"title\":{\"text\":\"Survival Rate (%)\"},\"range\":[0,100]},\"legend\":{\"tracegroupgap\":0},\"title\":{\"text\":\"Survival Rate by Cancer Stage\",\"font\":{\"size\":20}},\"barmode\":\"relative\",\"height\":400,\"width\":700,\"plot_bgcolor\":\"rgba(0,0,0,0)\"},                        {\"responsive\": true}                    ).then(function(){\n",
       "                            \n",
       "var gd = document.getElementById('f83d383b-a697-4522-9f19-79803687e341');\n",
       "var x = new MutationObserver(function (mutations, observer) {{\n",
       "        var display = window.getComputedStyle(gd).display;\n",
       "        if (!display || display === 'none') {{\n",
       "            console.log([gd, 'removed!']);\n",
       "            Plotly.purge(gd);\n",
       "            observer.disconnect();\n",
       "        }}\n",
       "}});\n",
       "\n",
       "// Listen for the removal of the full notebook cells\n",
       "var notebookContainer = gd.closest('#notebook-container');\n",
       "if (notebookContainer) {{\n",
       "    x.observe(notebookContainer, {childList: true});\n",
       "}}\n",
       "\n",
       "// Listen for the clearing of the current output cell\n",
       "var outputEl = gd.closest('.output');\n",
       "if (outputEl) {{\n",
       "    x.observe(outputEl, {childList: true});\n",
       "}}\n",
       "\n",
       "                        })                };                            </script>        </div>\n",
       "</body>\n",
       "</html>"
      ]
     },
     "metadata": {},
     "output_type": "display_data"
    }
   ],
   "source": [
    "stage_mapping = {0: 'Stage I', 1: 'Stage II', 2: 'Stage III', 3: 'Stage IV'}\n",
    "df['cancer_stage_label'] = df['cancer_stage'].map(stage_mapping)\n",
    "\n",
    "stage_order = ['Stage I', 'Stage II', 'Stage III', 'Stage IV']\n",
    "stage_df = df.groupby('cancer_stage_label')['survived'].mean().reindex(stage_order).reset_index()\n",
    "stage_df['survival_rate'] = (stage_df['survived'] * 100).round(2)\n",
    "\n",
    "fig = px.bar(\n",
    "    stage_df,\n",
    "    x='cancer_stage_label',\n",
    "    y='survival_rate',\n",
    "    text='survival_rate',\n",
    "    title='Survival Rate by Cancer Stage',\n",
    "    color_discrete_sequence=['#4CAF50'],\n",
    "    width=700,\n",
    "    height=400\n",
    ")\n",
    "\n",
    "# Style it\n",
    "fig.update_traces(\n",
    "    texttemplate='%{text}%', \n",
    "    textposition='outside',\n",
    "    marker=dict(line=dict(width=1.5, color='black'))\n",
    ")\n",
    "fig.update_layout(\n",
    "    yaxis_title='Survival Rate (%)',\n",
    "    xaxis_title='Cancer Stage',\n",
    "    title_font_size=20,\n",
    "    plot_bgcolor='rgba(0,0,0,0)',\n",
    "    yaxis_range=[0, 100]\n",
    ")\n",
    "\n",
    "fig.show()"
   ]
  },
  {
   "cell_type": "markdown",
   "id": "c24707f0",
   "metadata": {
    "execution": {
     "iopub.execute_input": "2025-07-19T09:55:03.985621Z",
     "iopub.status.busy": "2025-07-19T09:55:03.985311Z",
     "iopub.status.idle": "2025-07-19T09:55:04.015484Z",
     "shell.execute_reply": "2025-07-19T09:55:04.014276Z",
     "shell.execute_reply.started": "2025-07-19T09:55:03.985601Z"
    },
    "papermill": {
     "duration": 0.008843,
     "end_time": "2025-07-19T12:22:44.807858",
     "exception": false,
     "start_time": "2025-07-19T12:22:44.799015",
     "status": "completed"
    },
    "tags": []
   },
   "source": [
    "I checked if cancer stage affects survival — and surprisingly, the survival rate was almost exactly 22% across all four stages. That’s not what we’d expect in real life, so this might mean the data is synthetic or randomized. Still, it’s a good reminder to always explore and question the data before assuming patterns are meaningful.\n"
   ]
  },
  {
   "cell_type": "markdown",
   "id": "94a081e1",
   "metadata": {
    "papermill": {
     "duration": 0.009314,
     "end_time": "2025-07-19T12:22:44.826306",
     "exception": false,
     "start_time": "2025-07-19T12:22:44.816992",
     "status": "completed"
    },
    "tags": []
   },
   "source": [
    "## What is the impact of comorbidities (asthma, cirrhosis, hypertension) on lung cancer survival?"
   ]
  },
  {
   "cell_type": "code",
   "execution_count": 13,
   "id": "74a195f5",
   "metadata": {
    "execution": {
     "iopub.execute_input": "2025-07-19T12:22:44.846329Z",
     "iopub.status.busy": "2025-07-19T12:22:44.845995Z",
     "iopub.status.idle": "2025-07-19T12:22:44.918797Z",
     "shell.execute_reply": "2025-07-19T12:22:44.917589Z"
    },
    "papermill": {
     "duration": 0.085087,
     "end_time": "2025-07-19T12:22:44.920489",
     "exception": false,
     "start_time": "2025-07-19T12:22:44.835402",
     "status": "completed"
    },
    "tags": []
   },
   "outputs": [
    {
     "name": "stdout",
     "output_type": "stream",
     "text": [
      "\n",
      "ASTHMA Survival Rates:\n",
      "   asthma  survived  survival_rate\n",
      "0       0  0.220935          22.09\n",
      "1       1  0.219433          21.94\n",
      "\n",
      "CIRRHOSIS Survival Rates:\n",
      "   cirrhosis  survived  survival_rate\n",
      "0          0  0.219791          21.98\n",
      "1          1  0.221729          22.17\n",
      "\n",
      "HYPERTENSION Survival Rates:\n",
      "   hypertension  survived  survival_rate\n",
      "0             0  0.220187          22.02\n",
      "1             1  0.220243          22.02\n"
     ]
    }
   ],
   "source": [
    "comorbidities = ['asthma', 'cirrhosis', 'hypertension']\n",
    "\n",
    "for condition in comorbidities:\n",
    "    group = df.groupby(condition)['survived'].mean().reset_index()\n",
    "    group['survival_rate'] = (group['survived'] * 100).round(2)\n",
    "    print(f\"\\n{condition.upper()} Survival Rates:\")\n",
    "    print(group)\n"
   ]
  },
  {
   "cell_type": "code",
   "execution_count": 14,
   "id": "2cf047d7",
   "metadata": {
    "execution": {
     "iopub.execute_input": "2025-07-19T12:22:44.940824Z",
     "iopub.status.busy": "2025-07-19T12:22:44.940360Z",
     "iopub.status.idle": "2025-07-19T12:22:45.036320Z",
     "shell.execute_reply": "2025-07-19T12:22:45.035078Z"
    },
    "papermill": {
     "duration": 0.108121,
     "end_time": "2025-07-19T12:22:45.038018",
     "exception": false,
     "start_time": "2025-07-19T12:22:44.929897",
     "status": "completed"
    },
    "tags": []
   },
   "outputs": [
    {
     "name": "stdout",
     "output_type": "stream",
     "text": [
      "<class 'pandas.core.frame.DataFrame'>\n",
      "RangeIndex: 890000 entries, 0 to 889999\n",
      "Data columns (total 16 columns):\n",
      " #   Column              Non-Null Count   Dtype  \n",
      "---  ------              --------------   -----  \n",
      " 0   id                  890000 non-null  int64  \n",
      " 1   age                 890000 non-null  float64\n",
      " 2   gender              890000 non-null  int64  \n",
      " 3   country             890000 non-null  int64  \n",
      " 4   cancer_stage        890000 non-null  int64  \n",
      " 5   family_history      890000 non-null  int64  \n",
      " 6   smoking_status      890000 non-null  int64  \n",
      " 7   bmi                 890000 non-null  float64\n",
      " 8   cholesterol_level   890000 non-null  int64  \n",
      " 9   hypertension        890000 non-null  int64  \n",
      " 10  asthma              890000 non-null  int64  \n",
      " 11  cirrhosis           890000 non-null  int64  \n",
      " 12  other_cancer        890000 non-null  int64  \n",
      " 13  treatment_type      890000 non-null  int64  \n",
      " 14  survived            890000 non-null  int64  \n",
      " 15  cancer_stage_label  890000 non-null  object \n",
      "dtypes: float64(2), int64(13), object(1)\n",
      "memory usage: 108.6+ MB\n"
     ]
    }
   ],
   "source": [
    "df.info()"
   ]
  },
  {
   "cell_type": "markdown",
   "id": "3d068671",
   "metadata": {
    "papermill": {
     "duration": 0.008844,
     "end_time": "2025-07-19T12:22:45.055917",
     "exception": false,
     "start_time": "2025-07-19T12:22:45.047073",
     "status": "completed"
    },
    "tags": []
   },
   "source": [
    "I checked whether asthma, cirrhosis, or hypertension affected survival — and turns out… not really. The differences in survival rates were less than 0.2%, which is basically nothing. So in this dataset, comorbidities didn’t seem to play a big role in lung cancer survival."
   ]
  },
  {
   "cell_type": "markdown",
   "id": "32b36f9c",
   "metadata": {
    "papermill": {
     "duration": 0.008951,
     "end_time": "2025-07-19T12:22:45.073835",
     "exception": false,
     "start_time": "2025-07-19T12:22:45.064884",
     "status": "completed"
    },
    "tags": []
   },
   "source": [
    "## Do smoking habits correlate with cancer severity or survival?"
   ]
  },
  {
   "cell_type": "code",
   "execution_count": 15,
   "id": "43d35cd2",
   "metadata": {
    "execution": {
     "iopub.execute_input": "2025-07-19T12:22:45.093089Z",
     "iopub.status.busy": "2025-07-19T12:22:45.092756Z",
     "iopub.status.idle": "2025-07-19T12:22:45.174011Z",
     "shell.execute_reply": "2025-07-19T12:22:45.173072Z"
    },
    "papermill": {
     "duration": 0.093031,
     "end_time": "2025-07-19T12:22:45.175707",
     "exception": false,
     "start_time": "2025-07-19T12:22:45.082676",
     "status": "completed"
    },
    "tags": []
   },
   "outputs": [
    {
     "data": {
      "text/html": [
       "<html>\n",
       "<head><meta charset=\"utf-8\" /></head>\n",
       "<body>\n",
       "    <div>            <script src=\"https://cdnjs.cloudflare.com/ajax/libs/mathjax/2.7.5/MathJax.js?config=TeX-AMS-MML_SVG\"></script><script type=\"text/javascript\">if (window.MathJax && window.MathJax.Hub && window.MathJax.Hub.Config) {window.MathJax.Hub.Config({SVG: {font: \"STIX-Web\"}});}</script>                <script type=\"text/javascript\">window.PlotlyConfig = {MathJaxConfig: 'local'};</script>\n",
       "        <script charset=\"utf-8\" src=\"https://cdn.plot.ly/plotly-2.35.2.min.js\"></script>                <div id=\"558c3e45-f638-4ca8-8b12-5a8fb0ede245\" class=\"plotly-graph-div\" style=\"height:400px; width:750px;\"></div>            <script type=\"text/javascript\">                                    window.PLOTLYENV=window.PLOTLYENV || {};                                    if (document.getElementById(\"558c3e45-f638-4ca8-8b12-5a8fb0ede245\")) {                    Plotly.newPlot(                        \"558c3e45-f638-4ca8-8b12-5a8fb0ede245\",                        [{\"alignmentgroup\":\"True\",\"hovertemplate\":\"smoking_status=%{x}\\u003cbr\\u003esurvival_rate=%{text}\\u003cextra\\u003e\\u003c\\u002fextra\\u003e\",\"legendgroup\":\"\",\"marker\":{\"color\":\"#FF9900\",\"pattern\":{\"shape\":\"\"},\"line\":{\"color\":\"black\",\"width\":1.5}},\"name\":\"\",\"offsetgroup\":\"\",\"orientation\":\"v\",\"showlegend\":false,\"text\":[21.96,22.0,22.03,22.09],\"textposition\":\"outside\",\"x\":[\"Former\",\"Passive\",\"Current\",\"Never\"],\"xaxis\":\"x\",\"y\":[21.96,22.0,22.03,22.09],\"yaxis\":\"y\",\"type\":\"bar\",\"texttemplate\":\"%{text}%\"}],                        {\"template\":{\"data\":{\"histogram2dcontour\":[{\"type\":\"histogram2dcontour\",\"colorbar\":{\"outlinewidth\":0,\"ticks\":\"\"},\"colorscale\":[[0.0,\"#0d0887\"],[0.1111111111111111,\"#46039f\"],[0.2222222222222222,\"#7201a8\"],[0.3333333333333333,\"#9c179e\"],[0.4444444444444444,\"#bd3786\"],[0.5555555555555556,\"#d8576b\"],[0.6666666666666666,\"#ed7953\"],[0.7777777777777778,\"#fb9f3a\"],[0.8888888888888888,\"#fdca26\"],[1.0,\"#f0f921\"]]}],\"choropleth\":[{\"type\":\"choropleth\",\"colorbar\":{\"outlinewidth\":0,\"ticks\":\"\"}}],\"histogram2d\":[{\"type\":\"histogram2d\",\"colorbar\":{\"outlinewidth\":0,\"ticks\":\"\"},\"colorscale\":[[0.0,\"#0d0887\"],[0.1111111111111111,\"#46039f\"],[0.2222222222222222,\"#7201a8\"],[0.3333333333333333,\"#9c179e\"],[0.4444444444444444,\"#bd3786\"],[0.5555555555555556,\"#d8576b\"],[0.6666666666666666,\"#ed7953\"],[0.7777777777777778,\"#fb9f3a\"],[0.8888888888888888,\"#fdca26\"],[1.0,\"#f0f921\"]]}],\"heatmap\":[{\"type\":\"heatmap\",\"colorbar\":{\"outlinewidth\":0,\"ticks\":\"\"},\"colorscale\":[[0.0,\"#0d0887\"],[0.1111111111111111,\"#46039f\"],[0.2222222222222222,\"#7201a8\"],[0.3333333333333333,\"#9c179e\"],[0.4444444444444444,\"#bd3786\"],[0.5555555555555556,\"#d8576b\"],[0.6666666666666666,\"#ed7953\"],[0.7777777777777778,\"#fb9f3a\"],[0.8888888888888888,\"#fdca26\"],[1.0,\"#f0f921\"]]}],\"heatmapgl\":[{\"type\":\"heatmapgl\",\"colorbar\":{\"outlinewidth\":0,\"ticks\":\"\"},\"colorscale\":[[0.0,\"#0d0887\"],[0.1111111111111111,\"#46039f\"],[0.2222222222222222,\"#7201a8\"],[0.3333333333333333,\"#9c179e\"],[0.4444444444444444,\"#bd3786\"],[0.5555555555555556,\"#d8576b\"],[0.6666666666666666,\"#ed7953\"],[0.7777777777777778,\"#fb9f3a\"],[0.8888888888888888,\"#fdca26\"],[1.0,\"#f0f921\"]]}],\"contourcarpet\":[{\"type\":\"contourcarpet\",\"colorbar\":{\"outlinewidth\":0,\"ticks\":\"\"}}],\"contour\":[{\"type\":\"contour\",\"colorbar\":{\"outlinewidth\":0,\"ticks\":\"\"},\"colorscale\":[[0.0,\"#0d0887\"],[0.1111111111111111,\"#46039f\"],[0.2222222222222222,\"#7201a8\"],[0.3333333333333333,\"#9c179e\"],[0.4444444444444444,\"#bd3786\"],[0.5555555555555556,\"#d8576b\"],[0.6666666666666666,\"#ed7953\"],[0.7777777777777778,\"#fb9f3a\"],[0.8888888888888888,\"#fdca26\"],[1.0,\"#f0f921\"]]}],\"surface\":[{\"type\":\"surface\",\"colorbar\":{\"outlinewidth\":0,\"ticks\":\"\"},\"colorscale\":[[0.0,\"#0d0887\"],[0.1111111111111111,\"#46039f\"],[0.2222222222222222,\"#7201a8\"],[0.3333333333333333,\"#9c179e\"],[0.4444444444444444,\"#bd3786\"],[0.5555555555555556,\"#d8576b\"],[0.6666666666666666,\"#ed7953\"],[0.7777777777777778,\"#fb9f3a\"],[0.8888888888888888,\"#fdca26\"],[1.0,\"#f0f921\"]]}],\"mesh3d\":[{\"type\":\"mesh3d\",\"colorbar\":{\"outlinewidth\":0,\"ticks\":\"\"}}],\"scatter\":[{\"fillpattern\":{\"fillmode\":\"overlay\",\"size\":10,\"solidity\":0.2},\"type\":\"scatter\"}],\"parcoords\":[{\"type\":\"parcoords\",\"line\":{\"colorbar\":{\"outlinewidth\":0,\"ticks\":\"\"}}}],\"scatterpolargl\":[{\"type\":\"scatterpolargl\",\"marker\":{\"colorbar\":{\"outlinewidth\":0,\"ticks\":\"\"}}}],\"bar\":[{\"error_x\":{\"color\":\"#2a3f5f\"},\"error_y\":{\"color\":\"#2a3f5f\"},\"marker\":{\"line\":{\"color\":\"#E5ECF6\",\"width\":0.5},\"pattern\":{\"fillmode\":\"overlay\",\"size\":10,\"solidity\":0.2}},\"type\":\"bar\"}],\"scattergeo\":[{\"type\":\"scattergeo\",\"marker\":{\"colorbar\":{\"outlinewidth\":0,\"ticks\":\"\"}}}],\"scatterpolar\":[{\"type\":\"scatterpolar\",\"marker\":{\"colorbar\":{\"outlinewidth\":0,\"ticks\":\"\"}}}],\"histogram\":[{\"marker\":{\"pattern\":{\"fillmode\":\"overlay\",\"size\":10,\"solidity\":0.2}},\"type\":\"histogram\"}],\"scattergl\":[{\"type\":\"scattergl\",\"marker\":{\"colorbar\":{\"outlinewidth\":0,\"ticks\":\"\"}}}],\"scatter3d\":[{\"type\":\"scatter3d\",\"line\":{\"colorbar\":{\"outlinewidth\":0,\"ticks\":\"\"}},\"marker\":{\"colorbar\":{\"outlinewidth\":0,\"ticks\":\"\"}}}],\"scattermapbox\":[{\"type\":\"scattermapbox\",\"marker\":{\"colorbar\":{\"outlinewidth\":0,\"ticks\":\"\"}}}],\"scatterternary\":[{\"type\":\"scatterternary\",\"marker\":{\"colorbar\":{\"outlinewidth\":0,\"ticks\":\"\"}}}],\"scattercarpet\":[{\"type\":\"scattercarpet\",\"marker\":{\"colorbar\":{\"outlinewidth\":0,\"ticks\":\"\"}}}],\"carpet\":[{\"aaxis\":{\"endlinecolor\":\"#2a3f5f\",\"gridcolor\":\"white\",\"linecolor\":\"white\",\"minorgridcolor\":\"white\",\"startlinecolor\":\"#2a3f5f\"},\"baxis\":{\"endlinecolor\":\"#2a3f5f\",\"gridcolor\":\"white\",\"linecolor\":\"white\",\"minorgridcolor\":\"white\",\"startlinecolor\":\"#2a3f5f\"},\"type\":\"carpet\"}],\"table\":[{\"cells\":{\"fill\":{\"color\":\"#EBF0F8\"},\"line\":{\"color\":\"white\"}},\"header\":{\"fill\":{\"color\":\"#C8D4E3\"},\"line\":{\"color\":\"white\"}},\"type\":\"table\"}],\"barpolar\":[{\"marker\":{\"line\":{\"color\":\"#E5ECF6\",\"width\":0.5},\"pattern\":{\"fillmode\":\"overlay\",\"size\":10,\"solidity\":0.2}},\"type\":\"barpolar\"}],\"pie\":[{\"automargin\":true,\"type\":\"pie\"}]},\"layout\":{\"autotypenumbers\":\"strict\",\"colorway\":[\"#636efa\",\"#EF553B\",\"#00cc96\",\"#ab63fa\",\"#FFA15A\",\"#19d3f3\",\"#FF6692\",\"#B6E880\",\"#FF97FF\",\"#FECB52\"],\"font\":{\"color\":\"#2a3f5f\"},\"hovermode\":\"closest\",\"hoverlabel\":{\"align\":\"left\"},\"paper_bgcolor\":\"white\",\"plot_bgcolor\":\"#E5ECF6\",\"polar\":{\"bgcolor\":\"#E5ECF6\",\"angularaxis\":{\"gridcolor\":\"white\",\"linecolor\":\"white\",\"ticks\":\"\"},\"radialaxis\":{\"gridcolor\":\"white\",\"linecolor\":\"white\",\"ticks\":\"\"}},\"ternary\":{\"bgcolor\":\"#E5ECF6\",\"aaxis\":{\"gridcolor\":\"white\",\"linecolor\":\"white\",\"ticks\":\"\"},\"baxis\":{\"gridcolor\":\"white\",\"linecolor\":\"white\",\"ticks\":\"\"},\"caxis\":{\"gridcolor\":\"white\",\"linecolor\":\"white\",\"ticks\":\"\"}},\"coloraxis\":{\"colorbar\":{\"outlinewidth\":0,\"ticks\":\"\"}},\"colorscale\":{\"sequential\":[[0.0,\"#0d0887\"],[0.1111111111111111,\"#46039f\"],[0.2222222222222222,\"#7201a8\"],[0.3333333333333333,\"#9c179e\"],[0.4444444444444444,\"#bd3786\"],[0.5555555555555556,\"#d8576b\"],[0.6666666666666666,\"#ed7953\"],[0.7777777777777778,\"#fb9f3a\"],[0.8888888888888888,\"#fdca26\"],[1.0,\"#f0f921\"]],\"sequentialminus\":[[0.0,\"#0d0887\"],[0.1111111111111111,\"#46039f\"],[0.2222222222222222,\"#7201a8\"],[0.3333333333333333,\"#9c179e\"],[0.4444444444444444,\"#bd3786\"],[0.5555555555555556,\"#d8576b\"],[0.6666666666666666,\"#ed7953\"],[0.7777777777777778,\"#fb9f3a\"],[0.8888888888888888,\"#fdca26\"],[1.0,\"#f0f921\"]],\"diverging\":[[0,\"#8e0152\"],[0.1,\"#c51b7d\"],[0.2,\"#de77ae\"],[0.3,\"#f1b6da\"],[0.4,\"#fde0ef\"],[0.5,\"#f7f7f7\"],[0.6,\"#e6f5d0\"],[0.7,\"#b8e186\"],[0.8,\"#7fbc41\"],[0.9,\"#4d9221\"],[1,\"#276419\"]]},\"xaxis\":{\"gridcolor\":\"white\",\"linecolor\":\"white\",\"ticks\":\"\",\"title\":{\"standoff\":15},\"zerolinecolor\":\"white\",\"automargin\":true,\"zerolinewidth\":2},\"yaxis\":{\"gridcolor\":\"white\",\"linecolor\":\"white\",\"ticks\":\"\",\"title\":{\"standoff\":15},\"zerolinecolor\":\"white\",\"automargin\":true,\"zerolinewidth\":2},\"scene\":{\"xaxis\":{\"backgroundcolor\":\"#E5ECF6\",\"gridcolor\":\"white\",\"linecolor\":\"white\",\"showbackground\":true,\"ticks\":\"\",\"zerolinecolor\":\"white\",\"gridwidth\":2},\"yaxis\":{\"backgroundcolor\":\"#E5ECF6\",\"gridcolor\":\"white\",\"linecolor\":\"white\",\"showbackground\":true,\"ticks\":\"\",\"zerolinecolor\":\"white\",\"gridwidth\":2},\"zaxis\":{\"backgroundcolor\":\"#E5ECF6\",\"gridcolor\":\"white\",\"linecolor\":\"white\",\"showbackground\":true,\"ticks\":\"\",\"zerolinecolor\":\"white\",\"gridwidth\":2}},\"shapedefaults\":{\"line\":{\"color\":\"#2a3f5f\"}},\"annotationdefaults\":{\"arrowcolor\":\"#2a3f5f\",\"arrowhead\":0,\"arrowwidth\":1},\"geo\":{\"bgcolor\":\"white\",\"landcolor\":\"#E5ECF6\",\"subunitcolor\":\"white\",\"showland\":true,\"showlakes\":true,\"lakecolor\":\"white\"},\"title\":{\"x\":0.05},\"mapbox\":{\"style\":\"light\"}}},\"xaxis\":{\"anchor\":\"y\",\"domain\":[0.0,1.0],\"title\":{\"text\":\"Smoking Status\"}},\"yaxis\":{\"anchor\":\"x\",\"domain\":[0.0,1.0],\"title\":{\"text\":\"Survival Rate (%)\"},\"range\":[0,100]},\"legend\":{\"tracegroupgap\":0},\"title\":{\"text\":\"Survival Rate by Smoking Status\",\"font\":{\"size\":20}},\"barmode\":\"relative\",\"height\":400,\"width\":750,\"plot_bgcolor\":\"rgba(0,0,0,0)\"},                        {\"responsive\": true}                    ).then(function(){\n",
       "                            \n",
       "var gd = document.getElementById('558c3e45-f638-4ca8-8b12-5a8fb0ede245');\n",
       "var x = new MutationObserver(function (mutations, observer) {{\n",
       "        var display = window.getComputedStyle(gd).display;\n",
       "        if (!display || display === 'none') {{\n",
       "            console.log([gd, 'removed!']);\n",
       "            Plotly.purge(gd);\n",
       "            observer.disconnect();\n",
       "        }}\n",
       "}});\n",
       "\n",
       "// Listen for the removal of the full notebook cells\n",
       "var notebookContainer = gd.closest('#notebook-container');\n",
       "if (notebookContainer) {{\n",
       "    x.observe(notebookContainer, {childList: true});\n",
       "}}\n",
       "\n",
       "// Listen for the clearing of the current output cell\n",
       "var outputEl = gd.closest('.output');\n",
       "if (outputEl) {{\n",
       "    x.observe(outputEl, {childList: true});\n",
       "}}\n",
       "\n",
       "                        })                };                            </script>        </div>\n",
       "</body>\n",
       "</html>"
      ]
     },
     "metadata": {},
     "output_type": "display_data"
    }
   ],
   "source": [
    "import plotly.express as px\n",
    "\n",
    "\n",
    "smoke_df = df.groupby('smoking_status')['survived'].mean().reset_index()\n",
    "\n",
    "\n",
    "smoking_map = {\n",
    "    0: 'Current',\n",
    "    1: 'Former',\n",
    "    2: 'Never',\n",
    "    3: 'Passive'\n",
    "}\n",
    "smoke_df['smoking_status'] = smoke_df['smoking_status'].map(smoking_map)\n",
    "\n",
    "\n",
    "smoke_df['survival_rate'] = (smoke_df['survived'] * 100).round(2)\n",
    "\n",
    "\n",
    "smoke_df = smoke_df.sort_values('survival_rate')\n",
    "\n",
    "\n",
    "fig = px.bar(\n",
    "    smoke_df,\n",
    "    x='smoking_status',\n",
    "    y='survival_rate',\n",
    "    text='survival_rate',\n",
    "    title='Survival Rate by Smoking Status',\n",
    "    color_discrete_sequence=['#FF9900'],\n",
    "    width=750,\n",
    "    height=400\n",
    ")\n",
    "\n",
    "\n",
    "fig.update_traces(\n",
    "    texttemplate='%{text}%', \n",
    "    textposition='outside',\n",
    "    marker=dict(line=dict(width=1.5, color='black'))\n",
    ")\n",
    "fig.update_layout(\n",
    "    yaxis_title='Survival Rate (%)',\n",
    "    xaxis_title='Smoking Status',\n",
    "    title_font_size=20,\n",
    "    plot_bgcolor='rgba(0,0,0,0)',\n",
    "    yaxis_range=[0, 100]\n",
    ")\n",
    "\n",
    "fig.show()\n"
   ]
  },
  {
   "cell_type": "markdown",
   "id": "d7b08de2",
   "metadata": {
    "papermill": {
     "duration": 0.009583,
     "end_time": "2025-07-19T12:22:45.194979",
     "exception": false,
     "start_time": "2025-07-19T12:22:45.185396",
     "status": "completed"
    },
    "tags": []
   },
   "source": [
    "I expected survival rates to vary by smoking habit — like, current smokers should clearly be worse off, right? But in this dataset, everyone’s survival rate is weirdly the same. Even passive smokers and never-smokers are nearly identical. This probably means the data is synthetic or survival wasn’t really tied to smoking here. Still, it was a good reality check: not every dataset reflects real life.\n",
    "\n"
   ]
  }
 ],
 "metadata": {
  "kaggle": {
   "accelerator": "none",
   "dataSources": [
    {
     "datasetId": 7735754,
     "sourceId": 12275572,
     "sourceType": "datasetVersion"
    }
   ],
   "dockerImageVersionId": 31089,
   "isGpuEnabled": false,
   "isInternetEnabled": true,
   "language": "python",
   "sourceType": "notebook"
  },
  "kernelspec": {
   "display_name": "Python 3",
   "language": "python",
   "name": "python3"
  },
  "language_info": {
   "codemirror_mode": {
    "name": "ipython",
    "version": 3
   },
   "file_extension": ".py",
   "mimetype": "text/x-python",
   "name": "python",
   "nbconvert_exporter": "python",
   "pygments_lexer": "ipython3",
   "version": "3.11.13"
  },
  "papermill": {
   "default_parameters": {},
   "duration": 24.337309,
   "end_time": "2025-07-19T12:22:46.228927",
   "environment_variables": {},
   "exception": null,
   "input_path": "__notebook__.ipynb",
   "output_path": "__notebook__.ipynb",
   "parameters": {},
   "start_time": "2025-07-19T12:22:21.891618",
   "version": "2.6.0"
  }
 },
 "nbformat": 4,
 "nbformat_minor": 5
}
